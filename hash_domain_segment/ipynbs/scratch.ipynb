{
 "metadata": {
  "name": ""
 },
 "nbformat": 3,
 "nbformat_minor": 0,
 "worksheets": [
  {
   "cells": [
    {
     "cell_type": "code",
     "collapsed": false,
     "input": [
      "raw_input()"
     ],
     "language": "python",
     "metadata": {},
     "outputs": [
      {
       "name": "stdout",
       "output_type": "stream",
       "stream": "stdout",
       "text": [
        "rawww\n"
       ]
      },
      {
       "metadata": {},
       "output_type": "pyout",
       "prompt_number": 7,
       "text": [
        "'rawww'"
       ]
      }
     ],
     "prompt_number": 7
    },
    {
     "cell_type": "code",
     "collapsed": false,
     "input": [
      "exhash = '#49forLife'\n",
      "exweb = 'www.thatiswhatisuppunfortunately.com'"
     ],
     "language": "python",
     "metadata": {},
     "outputs": [],
     "prompt_number": 8
    },
    {
     "cell_type": "code",
     "collapsed": false,
     "input": [
      "exhash.lower()"
     ],
     "language": "python",
     "metadata": {},
     "outputs": [
      {
       "metadata": {},
       "output_type": "pyout",
       "prompt_number": 9,
       "text": [
        "'#49forlife'"
       ]
      }
     ],
     "prompt_number": 9
    },
    {
     "cell_type": "code",
     "collapsed": false,
     "input": [
      "exweb.index('.')"
     ],
     "language": "python",
     "metadata": {},
     "outputs": [
      {
       "metadata": {},
       "output_type": "pyout",
       "prompt_number": 13,
       "text": [
        "3"
       ]
      }
     ],
     "prompt_number": 13
    },
    {
     "cell_type": "code",
     "collapsed": false,
     "input": [
      "exweb.find('.',3)"
     ],
     "language": "python",
     "metadata": {},
     "outputs": [
      {
       "metadata": {},
       "output_type": "pyout",
       "prompt_number": 19,
       "text": [
        "3"
       ]
      }
     ],
     "prompt_number": 19
    },
    {
     "cell_type": "code",
     "collapsed": false,
     "input": [
      "filter(str.isalnum, 'bla3h!44$4blah')"
     ],
     "language": "python",
     "metadata": {},
     "outputs": [
      {
       "metadata": {},
       "output_type": "pyout",
       "prompt_number": 24,
       "text": [
        "'bla3h444blah'"
       ]
      }
     ],
     "prompt_number": 24
    },
    {
     "cell_type": "code",
     "collapsed": false,
     "input": [
      "cleaned = 'hashie33$$buddies'\n",
      "cleaned = \"\"\"'that'sit\"\"\"\n",
      "validchars = 'abcdefghijklmnopqrstuvwxyz0123456789'\n",
      "''.join(char for char in cleaned if char in validchars)"
     ],
     "language": "python",
     "metadata": {},
     "outputs": [
      {
       "metadata": {},
       "output_type": "pyout",
       "prompt_number": 30,
       "text": [
        "'thatsit'"
       ]
      }
     ],
     "prompt_number": 30
    },
    {
     "cell_type": "code",
     "collapsed": false,
     "input": [
      "cleaned = \"\"\"'that'sit\"\"\""
     ],
     "language": "python",
     "metadata": {},
     "outputs": [],
     "prompt_number": 28
    },
    {
     "cell_type": "code",
     "collapsed": false,
     "input": [
      "words_file = '../words.txt'\n"
     ],
     "language": "python",
     "metadata": {},
     "outputs": [
      {
       "output_type": "stream",
       "stream": "stdout",
       "text": [
        "nohup.out     scratch.ipynb\r\n"
       ]
      }
     ],
     "prompt_number": 32
    },
    {
     "cell_type": "code",
     "collapsed": false,
     "input": [
      "corpusfile = '../words.txt'\n",
      "global corpus\n",
      "corpus = open(corpusfile,'r').read().split()"
     ],
     "language": "python",
     "metadata": {},
     "outputs": [],
     "prompt_number": 11
    },
    {
     "cell_type": "code",
     "collapsed": false,
     "input": [
      "words = 'thewords'\n",
      "remain = ''"
     ],
     "language": "python",
     "metadata": {},
     "outputs": [],
     "prompt_number": 14
    },
    {
     "cell_type": "code",
     "collapsed": false,
     "input": [
      "words[:-1] "
     ],
     "language": "python",
     "metadata": {},
     "outputs": [
      {
       "metadata": {},
       "output_type": "pyout",
       "prompt_number": 18,
       "text": [
        "False"
       ]
      }
     ],
     "prompt_number": 18
    },
    {
     "cell_type": "code",
     "collapsed": false,
     "input": [
      "words[-1]"
     ],
     "language": "python",
     "metadata": {},
     "outputs": [
      {
       "metadata": {},
       "output_type": "pyout",
       "prompt_number": 17,
       "text": [
        "'s'"
       ]
      }
     ],
     "prompt_number": 17
    },
    {
     "cell_type": "code",
     "collapsed": false,
     "input": [
      "'is' in corpus"
     ],
     "language": "python",
     "metadata": {},
     "outputs": [
      {
       "metadata": {},
       "output_type": "pyout",
       "prompt_number": 20,
       "text": [
        "False"
       ]
      }
     ],
     "prompt_number": 20
    },
    {
     "cell_type": "code",
     "collapsed": false,
     "input": [
      "\"\"\" Weird... the corpus doesn't contain the word 'is' :(\"\"\""
     ],
     "language": "python",
     "metadata": {},
     "outputs": [
      {
       "metadata": {},
       "output_type": "pyout",
       "prompt_number": 21,
       "text": [
        "\" Weird... the corpus doesn't contain the word 'is' :(\""
       ]
      }
     ],
     "prompt_number": 21
    },
    {
     "cell_type": "code",
     "collapsed": false,
     "input": [
      "ex1 = '23go'\n",
      "ex2 = 'go'\n",
      "ex3 = '23'\n",
      "word = ex1"
     ],
     "language": "python",
     "metadata": {},
     "outputs": [],
     "prompt_number": 23
    },
    {
     "cell_type": "code",
     "collapsed": false,
     "input": [
      "cand = word[1]\n",
      "while cand+"
     ],
     "language": "python",
     "metadata": {},
     "outputs": []
    },
    {
     "cell_type": "code",
     "collapsed": false,
     "input": [
      "'3'.isnum()"
     ],
     "language": "python",
     "metadata": {},
     "outputs": [
      {
       "ename": "AttributeError",
       "evalue": "'str' object has no attribute 'isnum'",
       "output_type": "pyerr",
       "traceback": [
        "\u001b[0;31m---------------------------------------------------------------------------\u001b[0m\n\u001b[0;31mAttributeError\u001b[0m                            Traceback (most recent call last)",
        "\u001b[0;32m<ipython-input-26-eb271d5af3c9>\u001b[0m in \u001b[0;36m<module>\u001b[0;34m()\u001b[0m\n\u001b[0;32m----> 1\u001b[0;31m \u001b[0;34m'3'\u001b[0m\u001b[0;34m.\u001b[0m\u001b[0misnum\u001b[0m\u001b[0;34m(\u001b[0m\u001b[0;34m)\u001b[0m\u001b[0;34m\u001b[0m\u001b[0m\n\u001b[0m",
        "\u001b[0;31mAttributeError\u001b[0m: 'str' object has no attribute 'isnum'"
       ]
      }
     ],
     "prompt_number": 26
    },
    {
     "cell_type": "code",
     "collapsed": false,
     "input": [
      "char = '2323r32'\n",
      "remain = char + 'blahblah'"
     ],
     "language": "python",
     "metadata": {},
     "outputs": [],
     "prompt_number": 27
    },
    {
     "cell_type": "code",
     "collapsed": false,
     "input": [
      "remain[len(char):]"
     ],
     "language": "python",
     "metadata": {},
     "outputs": [
      {
       "metadata": {},
       "output_type": "pyout",
       "prompt_number": 32,
       "text": [
        "'blahblah'"
       ]
      }
     ],
     "prompt_number": 32
    },
    {
     "cell_type": "code",
     "collapsed": false,
     "input": [
      "'hot' in corpus"
     ],
     "language": "python",
     "metadata": {},
     "outputs": [
      {
       "metadata": {},
       "output_type": "pyout",
       "prompt_number": 36,
       "text": [
        "True"
       ]
      }
     ],
     "prompt_number": 36
    },
    {
     "cell_type": "code",
     "collapsed": false,
     "input": [
      "urls = ['thebeandme.com',\n",
      "      'www.facebook.co.uk',\n",
      "      'http://different02.sfgov.org/',\n",
      "      'https://sidekind.com/substack/stream-adventure',\n",
      "      'http://issueschool.io/',\n",
      "      'https://www.bedroom.com/']\n",
      "\n",
      "urlcleansols = ['thebeandme',\n",
      "             'facebook',\n",
      "             'different02',\n",
      "             'sidekind',\n",
      "             'issueschool',\n",
      "             'bedroom']\n",
      "\n",
      "urlsols = ['the be and me',\n",
      "           'face book',\n",
      "           'different 02',\n",
      "           'side kind',\n",
      "           'issue school',\n",
      "           'bedroom']\n"
     ],
     "language": "python",
     "metadata": {},
     "outputs": [],
     "prompt_number": 2
    },
    {
     "cell_type": "code",
     "collapsed": false,
     "input": [
      "clean( urls[0])"
     ],
     "language": "python",
     "metadata": {},
     "outputs": [
      {
       "metadata": {},
       "output_type": "pyout",
       "prompt_number": 9,
       "text": [
        "'thebeandmecom'"
       ]
      }
     ],
     "prompt_number": 9
    },
    {
     "cell_type": "code",
     "collapsed": false,
     "input": [
      "def dropUrlPrefix(url) :\n",
      "\t\"\"\"\n",
      "\tRequires :\n",
      "\tReturns : returns url without prefix '<http<s>://><www.>'  \n",
      "\t\"\"\"\n",
      "\tif url[:8] == 'https://' :\n",
      "\t\turl = url[8:]\n",
      "\telif url[:7] == 'http://' :\n",
      "\t\turl = url[7:]\n",
      "\tif url[:4] == 'www.' :\n",
      "\t\turl = url[4:]\n",
      "\treturn url\n",
      "\n",
      "def dropUrlSuffix(url) :\n",
      "\t\"\"\"\n",
      "\tRequires : first '.' in url marks the suffix start (i.e. no 'www.' prefix)\n",
      "\tReturns : url without any suffixes like '.com', '.co.uk',...\n",
      "\t\"\"\"\n",
      "\tnextdot = url.find('.')\n",
      "\turl = url[:nextdot]\n",
      "\treturn url\n",
      "\n",
      "\n",
      "def clean( urlhash ) :\n",
      "\t# returns urlhash without url decorations, hashtags, lowercase, and so just numbers and letters\n",
      "\tcleaned = urlhash.lower()\n",
      "\t\n",
      "\t# if hashtag\n",
      "\tif cleaned[0] == '#' :\n",
      "\t\tcleaned = cleaned[1:]\n",
      "\n",
      "\t#check if url\n",
      "\telif '.' in cleaned :\n",
      "\t\tcleaned = dropUrlPrefix(cleaned)\n",
      "\t\tcleaned = dropUrlSuffix(cleaned)\n",
      "\n",
      "\n",
      "\t# outside cases we consider\n",
      "\telse :\n",
      "\t\t'neither?!'\n",
      "\t# for any lingering non-alphanumeric characters\n",
      "\tvalidchars = 'abcdefghijklmnopqrstuvwxyz0123456789'\n",
      "\tcleaned = ''.join(char for char in cleaned if char in validchars)\n",
      "\n",
      "\treturn cleaned"
     ],
     "language": "python",
     "metadata": {},
     "outputs": [],
     "prompt_number": 16
    },
    {
     "cell_type": "code",
     "collapsed": false,
     "input": [
      "for i in range(len(urls)) :\n",
      "    print '{:<50} {:<30}'.format(clean(urls[i]),urlcleansols[i])"
     ],
     "language": "python",
     "metadata": {},
     "outputs": [
      {
       "output_type": "stream",
       "stream": "stdout",
       "text": [
        "thebeandme                                         thebeandme                    \n",
        "facebook                                           facebook                      \n",
        "different02                                        different02                   \n",
        "sidekind                                           sidekind                      \n",
        "issueschool                                        issueschool                   \n",
        "bedroom                                            bedroom                       \n"
       ]
      }
     ],
     "prompt_number": 17
    },
    {
     "cell_type": "code",
     "collapsed": false,
     "input": [
      "len('https://')"
     ],
     "language": "python",
     "metadata": {},
     "outputs": [
      {
       "metadata": {},
       "output_type": "pyout",
       "prompt_number": 12,
       "text": [
        "8"
       ]
      }
     ],
     "prompt_number": 12
    },
    {
     "cell_type": "code",
     "collapsed": false,
     "input": [],
     "language": "python",
     "metadata": {},
     "outputs": []
    }
   ],
   "metadata": {}
  }
 ]
}