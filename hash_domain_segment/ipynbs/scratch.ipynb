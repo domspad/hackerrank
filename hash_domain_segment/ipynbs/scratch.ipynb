{
 "metadata": {
  "name": ""
 },
 "nbformat": 3,
 "nbformat_minor": 0,
 "worksheets": [
  {
   "cells": [
    {
     "cell_type": "code",
     "collapsed": false,
     "input": [
      "raw_input()"
     ],
     "language": "python",
     "metadata": {},
     "outputs": [
      {
       "name": "stdout",
       "output_type": "stream",
       "stream": "stdout",
       "text": [
        "rawww\n"
       ]
      },
      {
       "metadata": {},
       "output_type": "pyout",
       "prompt_number": 7,
       "text": [
        "'rawww'"
       ]
      }
     ],
     "prompt_number": 7
    },
    {
     "cell_type": "code",
     "collapsed": false,
     "input": [
      "exhash = '#49forLife'\n",
      "exweb = 'www.thatiswhatisuppunfortunately.com'"
     ],
     "language": "python",
     "metadata": {},
     "outputs": [],
     "prompt_number": 8
    },
    {
     "cell_type": "code",
     "collapsed": false,
     "input": [
      "exhash.lower()"
     ],
     "language": "python",
     "metadata": {},
     "outputs": [
      {
       "metadata": {},
       "output_type": "pyout",
       "prompt_number": 9,
       "text": [
        "'#49forlife'"
       ]
      }
     ],
     "prompt_number": 9
    },
    {
     "cell_type": "code",
     "collapsed": false,
     "input": [
      "exweb.index('.')"
     ],
     "language": "python",
     "metadata": {},
     "outputs": [
      {
       "metadata": {},
       "output_type": "pyout",
       "prompt_number": 13,
       "text": [
        "3"
       ]
      }
     ],
     "prompt_number": 13
    },
    {
     "cell_type": "code",
     "collapsed": false,
     "input": [
      "exweb.find('.',3)"
     ],
     "language": "python",
     "metadata": {},
     "outputs": [
      {
       "metadata": {},
       "output_type": "pyout",
       "prompt_number": 19,
       "text": [
        "3"
       ]
      }
     ],
     "prompt_number": 19
    },
    {
     "cell_type": "code",
     "collapsed": false,
     "input": [
      "filter(str.isalnum, 'bla3h!44$4blah')"
     ],
     "language": "python",
     "metadata": {},
     "outputs": [
      {
       "metadata": {},
       "output_type": "pyout",
       "prompt_number": 24,
       "text": [
        "'bla3h444blah'"
       ]
      }
     ],
     "prompt_number": 24
    },
    {
     "cell_type": "code",
     "collapsed": false,
     "input": [
      "cleaned = 'hashie33$$buddies'\n",
      "cleaned = \"\"\"'that'sit\"\"\"\n",
      "validchars = 'abcdefghijklmnopqrstuvwxyz0123456789'\n",
      "''.join(char for char in cleaned if char in validchars)"
     ],
     "language": "python",
     "metadata": {},
     "outputs": [
      {
       "metadata": {},
       "output_type": "pyout",
       "prompt_number": 30,
       "text": [
        "'thatsit'"
       ]
      }
     ],
     "prompt_number": 30
    },
    {
     "cell_type": "code",
     "collapsed": false,
     "input": [
      "cleaned = \"\"\"'that'sit\"\"\""
     ],
     "language": "python",
     "metadata": {},
     "outputs": [],
     "prompt_number": 28
    },
    {
     "cell_type": "code",
     "collapsed": false,
     "input": [
      "words_file = '../words.txt'\n"
     ],
     "language": "python",
     "metadata": {},
     "outputs": [],
     "prompt_number": 25
    },
    {
     "cell_type": "code",
     "collapsed": false,
     "input": [
      "corpusfile = '../words.txt'\n",
      "global corpus\n",
      "corpus = open(corpusfile,'r').read().split()"
     ],
     "language": "python",
     "metadata": {},
     "outputs": [],
     "prompt_number": 26
    },
    {
     "cell_type": "code",
     "collapsed": false,
     "input": [
      "words = 'thewords'\n",
      "remain = ''"
     ],
     "language": "python",
     "metadata": {},
     "outputs": [],
     "prompt_number": 14
    },
    {
     "cell_type": "code",
     "collapsed": false,
     "input": [
      "words[:-1] "
     ],
     "language": "python",
     "metadata": {},
     "outputs": [
      {
       "metadata": {},
       "output_type": "pyout",
       "prompt_number": 18,
       "text": [
        "False"
       ]
      }
     ],
     "prompt_number": 18
    },
    {
     "cell_type": "code",
     "collapsed": false,
     "input": [
      "words[-1]"
     ],
     "language": "python",
     "metadata": {},
     "outputs": [
      {
       "metadata": {},
       "output_type": "pyout",
       "prompt_number": 17,
       "text": [
        "'s'"
       ]
      }
     ],
     "prompt_number": 17
    },
    {
     "cell_type": "code",
     "collapsed": false,
     "input": [
      "'is' in corpus"
     ],
     "language": "python",
     "metadata": {},
     "outputs": [
      {
       "metadata": {},
       "output_type": "pyout",
       "prompt_number": 20,
       "text": [
        "False"
       ]
      }
     ],
     "prompt_number": 20
    },
    {
     "cell_type": "code",
     "collapsed": false,
     "input": [
      "\"\"\" Weird... the corpus doesn't contain the word 'is' :(\"\"\""
     ],
     "language": "python",
     "metadata": {},
     "outputs": [
      {
       "metadata": {},
       "output_type": "pyout",
       "prompt_number": 21,
       "text": [
        "\" Weird... the corpus doesn't contain the word 'is' :(\""
       ]
      }
     ],
     "prompt_number": 21
    },
    {
     "cell_type": "code",
     "collapsed": false,
     "input": [
      "ex1 = '23go'\n",
      "ex2 = 'go'\n",
      "ex3 = '23'\n",
      "word = ex1"
     ],
     "language": "python",
     "metadata": {},
     "outputs": [],
     "prompt_number": 23
    },
    {
     "cell_type": "code",
     "collapsed": false,
     "input": [
      "cand = word[1]\n",
      "while cand+"
     ],
     "language": "python",
     "metadata": {},
     "outputs": []
    },
    {
     "cell_type": "code",
     "collapsed": false,
     "input": [
      "'3'.isnum()"
     ],
     "language": "python",
     "metadata": {},
     "outputs": [
      {
       "ename": "AttributeError",
       "evalue": "'str' object has no attribute 'isnum'",
       "output_type": "pyerr",
       "traceback": [
        "\u001b[0;31m---------------------------------------------------------------------------\u001b[0m\n\u001b[0;31mAttributeError\u001b[0m                            Traceback (most recent call last)",
        "\u001b[0;32m<ipython-input-26-eb271d5af3c9>\u001b[0m in \u001b[0;36m<module>\u001b[0;34m()\u001b[0m\n\u001b[0;32m----> 1\u001b[0;31m \u001b[0;34m'3'\u001b[0m\u001b[0;34m.\u001b[0m\u001b[0misnum\u001b[0m\u001b[0;34m(\u001b[0m\u001b[0;34m)\u001b[0m\u001b[0;34m\u001b[0m\u001b[0m\n\u001b[0m",
        "\u001b[0;31mAttributeError\u001b[0m: 'str' object has no attribute 'isnum'"
       ]
      }
     ],
     "prompt_number": 26
    },
    {
     "cell_type": "code",
     "collapsed": false,
     "input": [
      "char = '2323r32'\n",
      "remain = char + 'blahblah'"
     ],
     "language": "python",
     "metadata": {},
     "outputs": [],
     "prompt_number": 27
    },
    {
     "cell_type": "code",
     "collapsed": false,
     "input": [
      "remain[len(char):]"
     ],
     "language": "python",
     "metadata": {},
     "outputs": [
      {
       "metadata": {},
       "output_type": "pyout",
       "prompt_number": 32,
       "text": [
        "'blahblah'"
       ]
      }
     ],
     "prompt_number": 32
    },
    {
     "cell_type": "code",
     "collapsed": false,
     "input": [
      "'hot' in corpus"
     ],
     "language": "python",
     "metadata": {},
     "outputs": [
      {
       "metadata": {},
       "output_type": "pyout",
       "prompt_number": 36,
       "text": [
        "True"
       ]
      }
     ],
     "prompt_number": 36
    },
    {
     "cell_type": "code",
     "collapsed": false,
     "input": [
      "urls = ['thebeandme.com',\n",
      "      'www.facebook.co.uk',\n",
      "      'http://different02.sfgov.org/',\n",
      "      'https://sidekind.com/substack/stream-adventure',\n",
      "      'http://issueschool.io/',\n",
      "      'https://www.bedroom.com/']\n",
      "\n",
      "urlcleansols = ['thebeandme',\n",
      "             'facebook',\n",
      "             'different02',\n",
      "             'sidekind',\n",
      "             'issueschool',\n",
      "             'bedroom']\n",
      "\n",
      "urlsols = ['the be and me',\n",
      "           'face book',\n",
      "           'different 02',\n",
      "           'side kind',\n",
      "           'issue school',\n",
      "           'bedroom']\n"
     ],
     "language": "python",
     "metadata": {},
     "outputs": [],
     "prompt_number": 2
    },
    {
     "cell_type": "code",
     "collapsed": false,
     "input": [
      "clean( urls[0])"
     ],
     "language": "python",
     "metadata": {},
     "outputs": [
      {
       "metadata": {},
       "output_type": "pyout",
       "prompt_number": 9,
       "text": [
        "'thebeandmecom'"
       ]
      }
     ],
     "prompt_number": 9
    },
    {
     "cell_type": "code",
     "collapsed": false,
     "input": [
      "def dropUrlPrefix(url) :\n",
      "\t\"\"\"\n",
      "\tRequires : \n",
      "\tReturns : returns url without prefix '<http<s>://><www.>'  \n",
      "\t\"\"\"\n",
      "\tif len(url) >= 8 and url[:8] == 'https://' :\n",
      "\t\turl = url[8:]\n",
      "\telif len(url) >= 7 and url[:7] == 'http://' :\n",
      "\t\turl = url[7:]\n",
      "\tif len(url) >= 4 and url[:4] == 'www.' :\n",
      "\t\turl = url[4:]\n",
      "\treturn url\n",
      "\n",
      "def dropUrlSuffix(url) :\n",
      "\t\"\"\"\n",
      "\tRequires : '.' in url \n",
      "\tReturns : url without any suffixes like '.com', '.co.uk',...\n",
      "\t\"\"\"\n",
      "\tnextdot = url.find('.')\n",
      "\turl = url[:nextdot]\n",
      "\treturn url\n",
      "\n",
      "\n",
      "def clean( urlhash ) :\n",
      "\t\"\"\"\n",
      "\tRequires : urlhash at least one characters\n",
      "\tReturns : urlhash without hashtag or url decorations (just concatenated lowercase letters and numbers)\n",
      "\t\"\"\"\n",
      "\tcleaned = urlhash.lower()\n",
      "\t\n",
      "\t# if hashtag\n",
      "\tif cleaned[0] == '#' :\n",
      "\t\tcleaned = cleaned[1:]\n",
      "\n",
      "\t#check if url\n",
      "\telif '.' in cleaned :\n",
      "\t\tcleaned = dropUrlPrefix(cleaned)\n",
      "\t\tcleaned = dropUrlSuffix(cleaned)\n",
      "\t\n",
      "\t# outside cases we consider\n",
      "\telse :\n",
      "\t\t'neither?!'\n",
      "\t# for any lingering non-alphanumeric characters\n",
      "\tvalidchars = 'abcdefghijklmnopqrstuvwxyz0123456789'\n",
      "\tcleaned = ''.join(char for char in cleaned if char in validchars)\n",
      "\treturn cleaned"
     ],
     "language": "python",
     "metadata": {},
     "outputs": [],
     "prompt_number": 18
    },
    {
     "cell_type": "code",
     "collapsed": false,
     "input": [
      "for i in range(len(urls)) :\n",
      "    print '{:<50} {:<30}'.format(clean(urls[i]),urlcleansols[i])"
     ],
     "language": "python",
     "metadata": {},
     "outputs": [
      {
       "output_type": "stream",
       "stream": "stdout",
       "text": [
        "thebeandme                                         thebeandme                    \n",
        "facebook                                           facebook                      \n",
        "different02                                        different02                   \n",
        "sidekind                                           sidekind                      \n",
        "issueschool                                        issueschool                   \n",
        "bedroom                                            bedroom                       \n"
       ]
      }
     ],
     "prompt_number": 19
    },
    {
     "cell_type": "code",
     "collapsed": false,
     "input": [
      "len('https://')"
     ],
     "language": "python",
     "metadata": {},
     "outputs": [
      {
       "metadata": {},
       "output_type": "pyout",
       "prompt_number": 12,
       "text": [
        "8"
       ]
      }
     ],
     "prompt_number": 12
    },
    {
     "cell_type": "heading",
     "level": 4,
     "metadata": {},
     "source": [
      "now for the depth first segment"
     ]
    },
    {
     "cell_type": "code",
     "collapsed": false,
     "input": [
      "def isDone( remaining ) :\n",
      "\t\"\"\"\n",
      "\tReturns : True if remaining is empty string, else False\n",
      "\t\"\"\"\n",
      "\treturn remaining == ''\n",
      "\n",
      "def goDown( remaining, limit, corpus ) :\n",
      "\t\"\"\"\n",
      "\tSteps down the search tree\n",
      "\n",
      "\tRequires: limit <=len(remaining)\n",
      "\tReturns : longest valid substring from remaining starting from beginning (in corpus or is number)\n",
      "\t\t\t\totherwise, returns '' \n",
      "\t\"\"\"\n",
      "\tlongest  = remaining[:limit-1]\n",
      "\n",
      "\t#handle the number case...\n",
      "\tif longest[0].isdigit() :\n",
      "\t\tfor ind, char in enumerate(longest) :\n",
      "\t\t\tif not char.isdigit():\n",
      "\t\t\t\tlongest = longest[:ind]\n",
      "\t\t\t\tbreak\n",
      "\n",
      "\t#handle the word case\n",
      "\twhile True:\n",
      "\t\tif longest in corpus or longest == '':\n",
      "\t\t\tbreak\n",
      "\t\tlongest = longest[:-1]\n",
      "\n",
      "\treturn longest"
     ],
     "language": "python",
     "metadata": {},
     "outputs": [],
     "prompt_number": 23
    },
    {
     "cell_type": "code",
     "collapsed": false,
     "input": [
      "goDown('thebeandme', 3, corpus)"
     ],
     "language": "python",
     "metadata": {},
     "outputs": [
      {
       "metadata": {},
       "output_type": "pyout",
       "prompt_number": 30,
       "text": [
        "''"
       ]
      }
     ],
     "prompt_number": 30
    },
    {
     "cell_type": "code",
     "collapsed": false,
     "input": [
      "isDone('')"
     ],
     "language": "python",
     "metadata": {},
     "outputs": [
      {
       "metadata": {},
       "output_type": "pyout",
       "prompt_number": 32,
       "text": [
        "True"
       ]
      }
     ],
     "prompt_number": 32
    },
    {
     "cell_type": "code",
     "collapsed": false,
     "input": [
      "def popwrap( testlist) :\n",
      "    testlist.pop()\n",
      "    return testlist"
     ],
     "language": "python",
     "metadata": {},
     "outputs": [],
     "prompt_number": 33
    },
    {
     "cell_type": "code",
     "collapsed": false,
     "input": [
      "A = [1, 2, 3]\n",
      "popwrap(A)\n"
     ],
     "language": "python",
     "metadata": {},
     "outputs": [
      {
       "metadata": {},
       "output_type": "pyout",
       "prompt_number": 37,
       "text": [
        "[1, 2]"
       ]
      }
     ],
     "prompt_number": 37
    },
    {
     "cell_type": "code",
     "collapsed": false,
     "input": [
      "A"
     ],
     "language": "python",
     "metadata": {},
     "outputs": [
      {
       "metadata": {},
       "output_type": "pyout",
       "prompt_number": 38,
       "text": [
        "[1, 2]"
       ]
      }
     ],
     "prompt_number": 38
    },
    {
     "cell_type": "code",
     "collapsed": false,
     "input": [
      "A.pop()"
     ],
     "language": "python",
     "metadata": {},
     "outputs": [
      {
       "metadata": {},
       "output_type": "pyout",
       "prompt_number": 39,
       "text": [
        "2"
       ]
      }
     ],
     "prompt_number": 39
    },
    {
     "cell_type": "code",
     "collapsed": false,
     "input": [
      "A.pop()"
     ],
     "language": "python",
     "metadata": {},
     "outputs": [
      {
       "metadata": {},
       "output_type": "pyout",
       "prompt_number": 40,
       "text": [
        "1"
       ]
      }
     ],
     "prompt_number": 40
    },
    {
     "cell_type": "code",
     "collapsed": false,
     "input": [
      "A.pop()"
     ],
     "language": "python",
     "metadata": {},
     "outputs": [
      {
       "ename": "IndexError",
       "evalue": "pop from empty list",
       "output_type": "pyerr",
       "traceback": [
        "\u001b[0;31m---------------------------------------------------------------------------\u001b[0m\n\u001b[0;31mIndexError\u001b[0m                                Traceback (most recent call last)",
        "\u001b[0;32m<ipython-input-41-9da62a4c932e>\u001b[0m in \u001b[0;36m<module>\u001b[0;34m()\u001b[0m\n\u001b[0;32m----> 1\u001b[0;31m \u001b[0mA\u001b[0m\u001b[0;34m.\u001b[0m\u001b[0mpop\u001b[0m\u001b[0;34m(\u001b[0m\u001b[0;34m)\u001b[0m\u001b[0;34m\u001b[0m\u001b[0m\n\u001b[0m",
        "\u001b[0;31mIndexError\u001b[0m: pop from empty list"
       ]
      }
     ],
     "prompt_number": 41
    },
    {
     "cell_type": "code",
     "collapsed": false,
     "input": [
      "def isDone( remaining ) :\n",
      "\t\"\"\"\n",
      "\tReturns : True if remaining is empty string, else False\n",
      "\t\"\"\"\n",
      "\treturn remaining == ''\n",
      "\n",
      "\n",
      "def goDown( remaining, limit, corpus ) :\n",
      "\t\"\"\"\n",
      "\tSteps down the search tree\n",
      "\n",
      "\tRequires: limit <=len(remaining)+1, remaining != ''\n",
      "\tReturns : longest valid substring (of length < limit) from remaining starting from beginning (in corpus or is number)\n",
      "\t\t\t\totherwise, returns '' \n",
      "\t\"\"\"\n",
      "\tlongest  = remaining[:limit-1]\n",
      "\n",
      "\t#handle the number case...\n",
      "\tif longest[0].isdigit() :\n",
      "\t\tfor ind, char in enumerate(longest) :\n",
      "\t\t\tif not char.isdigit():\n",
      "\t\t\t\tlongest = longest[:ind]\t\n",
      "\t\t\t\tbreak\t\t\t\n",
      "\t\treturn longest\n",
      "\n",
      "\n",
      "\t#handle the word case\n",
      "\twhile True:\n",
      "\t\tif longest in corpus or longest == '' :\n",
      "\t\t\tbreak\n",
      "\t\tlongest = longest[:-1]\n",
      "\n",
      "\treturn longest\n",
      "\n",
      "\n",
      "def putBack( tokens, remaining ):\n",
      "\t\"\"\"\n",
      "\tMoves back up the tree and sets up so next search step goes down next branch (if there)\n",
      "\n",
      "\tRequires : tokens non empty\n",
      "\tEffects : pops element from tokens if nonempty\n",
      "\tReturns : tokens with one less token, and remaining prefixed with popped token, and size of popped token\n",
      "\t\t\t\tif tokens == []  then limit == 0\n",
      "\t\"\"\"\n",
      "\ttry :\n",
      "\t\tlast_token = tokens.pop()\n",
      "\t\tremaining = last_token + remaining\n",
      "\t\tlimit = len(last_token)\n",
      "\n",
      "\texcept IndexError :\n",
      "\t\tlimit = 0\n",
      "\n",
      "\treturn remaining, limit\n",
      "\n",
      "def tokenize(urlhash, corpus) :\n",
      "\t\"\"\"\n",
      "\tThe main algorithm -- performs depth first search to tokenize the urlhash into words\n",
      "\n",
      "\tReturns : tokenized version of urlhash (as string) \n",
      "\t\t\t\tif not possible to tokenize given corpus, then returns 'FAILURE {}'.format(urlhash)\n",
      "\t\"\"\"\n",
      "\ttokens = []\n",
      "\tremaining = urlhash\n",
      "\tlimit = len(urlhash) + 1\n",
      "\n",
      "\twhile not isDone(remaining) :\n",
      "\t\tnext_token = goDown(remaining, limit, corpus)\n",
      "\t\t\n",
      "\t\t#cant descend tree, must move to next branch\n",
      "\t\tif next_token == '' :\n",
      "\t\t\tremaining, limit = putBack(tokens, remaining)\n",
      "\t\t\t\n",
      "\t\t\t# tokens was empty so there are no ways to tokenize the urlhash!\n",
      "\t\t\tif limit == 0 :\n",
      "\t\t\t\treturn 'FAILURE TO TOKENIZE {}'.format(urlhash)\n",
      "\n",
      "\t\t\tcontinue\n",
      "\n",
      "\t\t#successful goDown so update state\n",
      "\t\ttokens.append(next_token)\n",
      "\t\tremaining = remaining[len(next_token):]\n",
      "\t\tlimit = len(remaining)+1\n",
      "\n",
      "\ttokenized = ' '.join(tokens)\n",
      "\n",
      "\treturn tokenized"
     ],
     "language": "python",
     "metadata": {},
     "outputs": [],
     "prompt_number": 74
    },
    {
     "cell_type": "code",
     "collapsed": false,
     "input": [
      "for i in range(len(urls)) :\n",
      "    print '{:<50} {:<30}'.format(clean(urls[i]),urlcleansols[i])"
     ],
     "language": "python",
     "metadata": {},
     "outputs": [
      {
       "output_type": "stream",
       "stream": "stdout",
       "text": [
        "thebeandme                                         thebeandme                    \n",
        "facebook                                           facebook                      \n",
        "different02                                        different02                   \n",
        "sidekind                                           sidekind                      \n",
        "issueschool                                        issueschool                   \n",
        "bedroom                                            bedroom                       \n"
       ]
      }
     ],
     "prompt_number": 75
    },
    {
     "cell_type": "code",
     "collapsed": false,
     "input": [
      "for i in range(len(urls)) :\n",
      "    print '{:<50} {:<30}'.format(tokenize(clean(urls[i]), corpus),urlsols[i])"
     ],
     "language": "python",
     "metadata": {},
     "outputs": [
      {
       "output_type": "stream",
       "stream": "stdout",
       "text": [
        "the be and me                                      the be and me                 \n",
        "face book                                          face book                     \n",
        "different 02                                       different 02                  \n",
        "side kind                                          side kind                     \n",
        "issue school                                       issue school                  \n",
        "bedroom                                            bedroom                       \n"
       ]
      }
     ],
     "prompt_number": 76
    },
    {
     "cell_type": "code",
     "collapsed": false,
     "input": [
      "tokenize('facebook34',corpus)"
     ],
     "language": "python",
     "metadata": {},
     "outputs": [
      {
       "metadata": {},
       "output_type": "pyout",
       "prompt_number": 77,
       "text": [
        "'face book 34'"
       ]
      }
     ],
     "prompt_number": 77
    },
    {
     "cell_type": "code",
     "collapsed": false,
     "input": [
      "45"
     ],
     "language": "python",
     "metadata": {},
     "outputs": []
    }
   ],
   "metadata": {}
  }
 ]
}